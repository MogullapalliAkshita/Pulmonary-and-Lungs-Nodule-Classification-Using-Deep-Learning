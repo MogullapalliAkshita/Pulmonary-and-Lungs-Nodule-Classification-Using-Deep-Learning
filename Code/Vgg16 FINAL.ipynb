{
 "cells": [
  {
   "cell_type": "code",
   "execution_count": 2,
   "metadata": {
    "execution": {
     "iopub.execute_input": "2022-01-13T12:45:40.973505Z",
     "iopub.status.busy": "2022-01-13T12:45:40.973152Z",
     "iopub.status.idle": "2022-01-13T12:45:45.076588Z",
     "shell.execute_reply": "2022-01-13T12:45:45.075803Z",
     "shell.execute_reply.started": "2022-01-13T12:45:40.973433Z"
    }
   },
   "outputs": [],
   "source": [
    "import os\n",
    "import cv2\n",
    "import pandas as pd\n",
    "import numpy as np\n",
    "import tensorflow as tf\n",
    "import matplotlib.pyplot as plt\n",
    "\n",
    "import warnings\n",
    "warnings.filterwarnings(\"ignore\")"
   ]
  },
  {
   "cell_type": "markdown",
   "metadata": {},
   "source": [
    "# Adding original images to the augmented folders"
   ]
  },
  {
   "cell_type": "code",
   "execution_count": 3,
   "metadata": {},
   "outputs": [
    {
     "data": {
      "text/plain": [
       "'\\nimport os\\nimport shutil\\n\\nl = [\\'normal\\', \\'adenocarcinoma\\', \\'large.cell.carcinoma\\', \\'squamous.cell.carcinoma\\']\\n\\nfor file in l:\\n    origin = \\'Data/train/\\' + file + \\'/\\'\\n    target = \\'Data - All Trying/train_preprocessed/\\' + file + \\'/\\'\\n\\n    files = os.listdir(origin)\\n\\n    for file_name in files:\\n       shutil.copy(origin+file_name, target+file_name)\\n    print(\"Files are copied successfully\")\\n    \\nl = [\\'normal\\', \\'adenocarcinoma\\', \\'large.cell.carcinoma\\', \\'squamous.cell.carcinoma\\']\\n\\nfor file in l:\\n    origin = \\'Data/test/\\' + file + \\'/\\'\\n    target = \\'Data - All Trying/test_preprocessed/\\' + file + \\'/\\'\\n\\n    files = os.listdir(origin)\\n\\n    for file_name in files:\\n       shutil.copy(origin+file_name, target+file_name)\\n    print(\"Files are copied successfully\")\\n    \\nl = [\\'normal\\', \\'adenocarcinoma\\', \\'large.cell.carcinoma\\', \\'squamous.cell.carcinoma\\']\\n\\nfor file in l:\\n    origin = \\'Data/valid/\\' + file + \\'/\\'\\n    target = \\'Data - All Trying/valid_preprocessed/\\' + file + \\'/\\'\\n\\n    files = os.listdir(origin)\\n\\n    for file_name in files:\\n       shutil.copy(origin+file_name, target+file_name)\\n    print(\"Files are copied successfully\")\\n'"
      ]
     },
     "execution_count": 3,
     "metadata": {},
     "output_type": "execute_result"
    }
   ],
   "source": [
    "'''\n",
    "import os\n",
    "import shutil\n",
    "\n",
    "l = ['normal', 'adenocarcinoma', 'large.cell.carcinoma', 'squamous.cell.carcinoma']\n",
    "\n",
    "for file in l:\n",
    "    origin = 'Data/train/' + file + '/'\n",
    "    target = 'Data - All Trying/train_preprocessed/' + file + '/'\n",
    "\n",
    "    files = os.listdir(origin)\n",
    "\n",
    "    for file_name in files:\n",
    "       shutil.copy(origin+file_name, target+file_name)\n",
    "    print(\"Files are copied successfully\")\n",
    "    \n",
    "l = ['normal', 'adenocarcinoma', 'large.cell.carcinoma', 'squamous.cell.carcinoma']\n",
    "\n",
    "for file in l:\n",
    "    origin = 'Data/test/' + file + '/'\n",
    "    target = 'Data - All Trying/test_preprocessed/' + file + '/'\n",
    "\n",
    "    files = os.listdir(origin)\n",
    "\n",
    "    for file_name in files:\n",
    "       shutil.copy(origin+file_name, target+file_name)\n",
    "    print(\"Files are copied successfully\")\n",
    "    \n",
    "l = ['normal', 'adenocarcinoma', 'large.cell.carcinoma', 'squamous.cell.carcinoma']\n",
    "\n",
    "for file in l:\n",
    "    origin = 'Data/valid/' + file + '/'\n",
    "    target = 'Data - All Trying/valid_preprocessed/' + file + '/'\n",
    "\n",
    "    files = os.listdir(origin)\n",
    "\n",
    "    for file_name in files:\n",
    "       shutil.copy(origin+file_name, target+file_name)\n",
    "    print(\"Files are copied successfully\")\n",
    "'''"
   ]
  },
  {
   "cell_type": "markdown",
   "metadata": {},
   "source": [
    "# VGG 16 "
   ]
  },
  {
   "cell_type": "code",
   "execution_count": 4,
   "metadata": {
    "execution": {
     "iopub.execute_input": "2022-01-13T12:45:54.872013Z",
     "iopub.status.busy": "2022-01-13T12:45:54.871752Z",
     "iopub.status.idle": "2022-01-13T12:45:54.876256Z",
     "shell.execute_reply": "2022-01-13T12:45:54.875356Z",
     "shell.execute_reply.started": "2022-01-13T12:45:54.871983Z"
    }
   },
   "outputs": [],
   "source": [
    "# File Directory for both the train and test\n",
    "train_path = \"Data - All Trying/train_preprocessed\"\n",
    "val_path = \"Data - All Trying/valid_preprocessed\"\n",
    "test_path = \"Data - All Trying/test\""
   ]
  },
  {
   "cell_type": "code",
   "execution_count": 5,
   "metadata": {
    "execution": {
     "iopub.execute_input": "2022-01-13T12:46:01.060970Z",
     "iopub.status.busy": "2022-01-13T12:46:01.060344Z",
     "iopub.status.idle": "2022-01-13T12:46:01.454889Z",
     "shell.execute_reply": "2022-01-13T12:46:01.454087Z",
     "shell.execute_reply.started": "2022-01-13T12:46:01.060932Z"
    }
   },
   "outputs": [
    {
     "name": "stdout",
     "output_type": "stream",
     "text": [
      "{'adenocarcinoma': 585, 'large.cell.carcinoma': 345, 'normal': 444, 'squamous.cell.carcinoma': 465} \n",
      "\n",
      " {'adenocarcinoma': 69, 'large.cell.carcinoma': 63, 'normal': 39, 'squamous.cell.carcinoma': 45} \n",
      "\n",
      " {'adenocarcinoma': 120, 'large.cell.carcinoma': 51, 'normal': 54, 'squamous.cell.carcinoma': 90}\n"
     ]
    }
   ],
   "source": [
    "def GetDatasetSize(path):\n",
    "    num_of_image = {}\n",
    "    for folder in os.listdir(path):\n",
    "        # Counting the Number of Files in the Folder\n",
    "        num_of_image[folder] = len(os.listdir(os.path.join(path, folder)));\n",
    "    return num_of_image;\n",
    "    \n",
    "train_set = GetDatasetSize(train_path)\n",
    "val_set = GetDatasetSize(val_path)\n",
    "test_set = GetDatasetSize(test_path)\n",
    "print(train_set,\"\\n\\n\",val_set,\"\\n\\n\",test_set)"
   ]
  },
  {
   "cell_type": "code",
   "execution_count": 6,
   "metadata": {
    "execution": {
     "iopub.execute_input": "2022-01-13T12:46:06.419953Z",
     "iopub.status.busy": "2022-01-13T12:46:06.419366Z",
     "iopub.status.idle": "2022-01-13T12:46:06.751834Z",
     "shell.execute_reply": "2022-01-13T12:46:06.751188Z",
     "shell.execute_reply.started": "2022-01-13T12:46:06.419915Z"
    }
   },
   "outputs": [
    {
     "data": {
      "image/png": "[encoded data removed]",
      "text/plain": [
       "<Figure size 432x288 with 1 Axes>"
      ]
     },
     "metadata": {
      "needs_background": "light"
     },
     "output_type": "display_data"
    }
   ],
   "source": [
    "import matplotlib.pyplot as plt\n",
    "import numpy as np\n",
    "\n",
    "labels = ['squamous.cell.carcinoma', 'normal', 'adenocarcinoma', 'large.cell.carcinoma']\n",
    "train_list = list(train_set.values())\n",
    "val_list = list(val_set.values())\n",
    "test_list = list(test_set.values())\n",
    "\n",
    "x = np.arange(len(labels))  # the label locations\n",
    "width = 0.25  # the width of the bars\n",
    "\n",
    "fig, ax = plt.subplots()\n",
    "rects1 = ax.bar(x - width, train_list, width, label='Train')\n",
    "rects2 = ax.bar(x, val_list, width, label='Val')\n",
    "rects3 = ax.bar(x + width, test_list, width, label='Test')\n",
    "\n",
    "# Add some text for labels, title, and custom x-axis tick labels, etc.\n",
    "ax.set_ylabel('Images Count')\n",
    "ax.set_title('Dataset')\n",
    "ax.set_xticks(x)\n",
    "ax.set_xticklabels(labels, rotation=15)\n",
    "ax.legend()\n",
    "\n",
    "for rect in rects1:\n",
    "    height = rect.get_height()\n",
    "    ax.text(rect.get_x() + rect.get_width() / 2., 1.05 * height, f'{int(height)}',\n",
    "            ha='center', va='bottom')\n",
    "\n",
    "for rect in rects2:\n",
    "    height = rect.get_height()\n",
    "    ax.text(rect.get_x() + rect.get_width() / 2., 1.05 * height, f'{int(height)}',\n",
    "            ha='center', va='bottom')\n",
    "\n",
    "for rect in rects3:\n",
    "    height = rect.get_height()\n",
    "    ax.text(rect.get_x() + rect.get_width() / 2., 1.05 * height, f'{int(height)}',\n",
    "            ha='center', va='bottom')\n",
    "\n",
    "fig.tight_layout()\n",
    "plt.show()"
   ]
  },
  {
   "cell_type": "markdown",
   "metadata": {},
   "source": [
    "## Importing Keras for Image Classification"
   ]
  },
  {
   "cell_type": "code",
   "execution_count": 7,
   "metadata": {
    "execution": {
     "iopub.execute_input": "2022-01-13T12:46:11.362181Z",
     "iopub.status.busy": "2022-01-13T12:46:11.361921Z",
     "iopub.status.idle": "2022-01-13T12:46:12.229033Z",
     "shell.execute_reply": "2022-01-13T12:46:12.228292Z",
     "shell.execute_reply.started": "2022-01-13T12:46:11.362151Z"
    }
   },
   "outputs": [],
   "source": [
    "import tensorflow.keras\n",
    "from tensorflow.keras import layers\n",
    "from tensorflow.keras import Model \n",
    "from tensorflow.keras.models import Sequential\n",
    "from tensorflow.keras.preprocessing import image\n",
    "from tensorflow.keras.callbacks import ModelCheckpoint, EarlyStopping\n",
    "from tensorflow.keras.preprocessing.image import ImageDataGenerator\n",
    "from tensorflow.keras.applications.vgg16 import VGG16, preprocess_input\n",
    "from tensorflow.keras.models import load_model, Model\n",
    "from tensorflow.keras.layers import Dense,Conv2D, Flatten, MaxPool2D, Dropout"
   ]
  },
  {
   "cell_type": "code",
   "execution_count": 8,
   "metadata": {},
   "outputs": [],
   "source": [
    "batchsize = 10"
   ]
  },
  {
   "cell_type": "code",
   "execution_count": 9,
   "metadata": {
    "execution": {
     "iopub.execute_input": "2022-01-13T12:46:15.127351Z",
     "iopub.status.busy": "2022-01-13T12:46:15.126541Z",
     "iopub.status.idle": "2022-01-13T12:46:15.245783Z",
     "shell.execute_reply": "2022-01-13T12:46:15.242461Z",
     "shell.execute_reply.started": "2022-01-13T12:46:15.127312Z"
    }
   },
   "outputs": [
    {
     "name": "stdout",
     "output_type": "stream",
     "text": [
      "Found 1839 images belonging to 4 classes.\n"
     ]
    }
   ],
   "source": [
    "train_datagen = ImageDataGenerator(rescale = 1.0/255.0,\n",
    "                                  horizontal_flip = True,\n",
    "                                  fill_mode = 'nearest',\n",
    "                                  zoom_range=0.2,\n",
    "                                  shear_range = 0.2,\n",
    "                                  width_shift_range=0.2,\n",
    "                                  height_shift_range=0.2,\n",
    "                                  rotation_range=0.4)\n",
    "\n",
    "train_data = train_datagen.flow_from_directory(train_path,\n",
    "                                                   batch_size = batchsize,\n",
    "                                                   target_size = (350,350),\n",
    "                                                   class_mode = 'categorical')"
   ]
  },
  {
   "cell_type": "code",
   "execution_count": 10,
   "metadata": {
    "execution": {
     "iopub.execute_input": "2022-01-13T12:46:18.784454Z",
     "iopub.status.busy": "2022-01-13T12:46:18.783751Z",
     "iopub.status.idle": "2022-01-13T12:46:18.791169Z",
     "shell.execute_reply": "2022-01-13T12:46:18.790274Z",
     "shell.execute_reply.started": "2022-01-13T12:46:18.784405Z"
    }
   },
   "outputs": [
    {
     "data": {
      "text/plain": [
       "{'adenocarcinoma': 0,\n",
       " 'large.cell.carcinoma': 1,\n",
       " 'normal': 2,\n",
       " 'squamous.cell.carcinoma': 3}"
      ]
     },
     "execution_count": 10,
     "metadata": {},
     "output_type": "execute_result"
    }
   ],
   "source": [
    "train_data.class_indices"
   ]
  },
  {
   "cell_type": "code",
   "execution_count": 11,
   "metadata": {
    "execution": {
     "iopub.execute_input": "2022-01-13T12:46:21.015161Z",
     "iopub.status.busy": "2022-01-13T12:46:21.014691Z",
     "iopub.status.idle": "2022-01-13T12:46:21.124404Z",
     "shell.execute_reply": "2022-01-13T12:46:21.123358Z",
     "shell.execute_reply.started": "2022-01-13T12:46:21.015122Z"
    }
   },
   "outputs": [
    {
     "name": "stdout",
     "output_type": "stream",
     "text": [
      "Found 216 images belonging to 4 classes.\n"
     ]
    }
   ],
   "source": [
    "val_datagen = ImageDataGenerator(rescale = 1.0/255.0)\n",
    "val_data = val_datagen.flow_from_directory(val_path,\n",
    "                                                   batch_size = batchsize,\n",
    "                                                   target_size = (350,350),\n",
    "                                                   class_mode = 'categorical')"
   ]
  },
  {
   "cell_type": "code",
   "execution_count": 12,
   "metadata": {
    "execution": {
     "iopub.execute_input": "2022-01-13T12:46:24.162961Z",
     "iopub.status.busy": "2022-01-13T12:46:24.162690Z",
     "iopub.status.idle": "2022-01-13T12:46:24.171197Z",
     "shell.execute_reply": "2022-01-13T12:46:24.170397Z",
     "shell.execute_reply.started": "2022-01-13T12:46:24.162931Z"
    }
   },
   "outputs": [
    {
     "data": {
      "text/plain": [
       "{'adenocarcinoma': 0,\n",
       " 'large.cell.carcinoma': 1,\n",
       " 'normal': 2,\n",
       " 'squamous.cell.carcinoma': 3}"
      ]
     },
     "execution_count": 12,
     "metadata": {},
     "output_type": "execute_result"
    }
   ],
   "source": [
    "val_data.class_indices"
   ]
  },
  {
   "cell_type": "code",
   "execution_count": 13,
   "metadata": {
    "execution": {
     "iopub.execute_input": "2022-01-13T12:46:26.277635Z",
     "iopub.status.busy": "2022-01-13T12:46:26.277357Z",
     "iopub.status.idle": "2022-01-13T12:46:26.386859Z",
     "shell.execute_reply": "2022-01-13T12:46:26.386152Z",
     "shell.execute_reply.started": "2022-01-13T12:46:26.277604Z"
    }
   },
   "outputs": [
    {
     "name": "stdout",
     "output_type": "stream",
     "text": [
      "Found 315 images belonging to 4 classes.\n"
     ]
    }
   ],
   "source": [
    "test_datagen = ImageDataGenerator(rescale = 1.0/255.0)\n",
    "test_data = test_datagen.flow_from_directory(test_path,\n",
    "                                                   batch_size = batchsize,\n",
    "                                                   target_size = (350,350),\n",
    "                                                   class_mode = 'categorical')"
   ]
  },
  {
   "cell_type": "code",
   "execution_count": 14,
   "metadata": {
    "execution": {
     "iopub.execute_input": "2022-01-13T12:46:29.534509Z",
     "iopub.status.busy": "2022-01-13T12:46:29.534136Z",
     "iopub.status.idle": "2022-01-13T12:46:29.540914Z",
     "shell.execute_reply": "2022-01-13T12:46:29.540255Z",
     "shell.execute_reply.started": "2022-01-13T12:46:29.534470Z"
    }
   },
   "outputs": [
    {
     "data": {
      "text/plain": [
       "{'adenocarcinoma': 0,\n",
       " 'large.cell.carcinoma': 1,\n",
       " 'normal': 2,\n",
       " 'squamous.cell.carcinoma': 3}"
      ]
     },
     "execution_count": 14,
     "metadata": {},
     "output_type": "execute_result"
    }
   ],
   "source": [
    "test_data.class_indices"
   ]
  },
  {
   "cell_type": "markdown",
   "metadata": {},
   "source": [
    "## VGG16 Model"
   ]
  },
  {
   "cell_type": "code",
   "execution_count": 15,
   "metadata": {
    "execution": {
     "iopub.execute_input": "2022-01-13T12:58:42.773492Z",
     "iopub.status.busy": "2022-01-13T12:58:42.772772Z",
     "iopub.status.idle": "2022-01-13T12:58:43.452602Z",
     "shell.execute_reply": "2022-01-13T12:58:43.451757Z",
     "shell.execute_reply.started": "2022-01-13T12:58:42.773450Z"
    }
   },
   "outputs": [],
   "source": [
    "base_model = VGG16(\n",
    "    weights='imagenet',\n",
    "    include_top=False, \n",
    "    input_shape=(350,350,3)\n",
    ")"
   ]
  },
  {
   "cell_type": "code",
   "execution_count": 16,
   "metadata": {
    "execution": {
     "iopub.execute_input": "2022-01-13T12:58:48.844902Z",
     "iopub.status.busy": "2022-01-13T12:58:48.844198Z",
     "iopub.status.idle": "2022-01-13T12:58:48.920324Z",
     "shell.execute_reply": "2022-01-13T12:58:48.919633Z",
     "shell.execute_reply.started": "2022-01-13T12:58:48.844864Z"
    }
   },
   "outputs": [
    {
     "name": "stdout",
     "output_type": "stream",
     "text": [
      "Model: \"sequential\"\n",
      "_________________________________________________________________\n",
      " Layer (type)                Output Shape              Param #   \n",
      "=================================================================\n",
      " vgg16 (Functional)          (None, 10, 10, 512)       14714688  \n",
      "                                                                 \n",
      " flatten (Flatten)           (None, 51200)             0         \n",
      "                                                                 \n",
      " dropout (Dropout)           (None, 51200)             0         \n",
      "                                                                 \n",
      " dense (Dense)               (None, 4)                 204804    \n",
      "                                                                 \n",
      "=================================================================\n",
      "Total params: 14,919,492\n",
      "Trainable params: 204,804\n",
      "Non-trainable params: 14,714,688\n",
      "_________________________________________________________________\n"
     ]
    }
   ],
   "source": [
    "NUM_CLASSES = 4\n",
    "\n",
    "vgg_model = Sequential()\n",
    "vgg_model.add(base_model)\n",
    "vgg_model.add(layers.Flatten())\n",
    "vgg_model.add(layers.Dropout(0.25))\n",
    "vgg_model.add(layers.Dense(NUM_CLASSES, activation='sigmoid'))\n",
    "\n",
    "vgg_model.layers[0].trainable = False\n",
    "\n",
    "vgg_model.compile(\n",
    "    loss='categorical_crossentropy',\n",
    "    optimizer='adam',\n",
    "    metrics=['accuracy']\n",
    ")\n",
    "\n",
    "vgg_model.summary()"
   ]
  },
  {
   "cell_type": "code",
   "execution_count": 17,
   "metadata": {
    "execution": {
     "iopub.execute_input": "2022-01-13T12:58:52.423274Z",
     "iopub.status.busy": "2022-01-13T12:58:52.422760Z",
     "iopub.status.idle": "2022-01-13T12:58:52.429051Z",
     "shell.execute_reply": "2022-01-13T12:58:52.428069Z",
     "shell.execute_reply.started": "2022-01-13T12:58:52.423238Z"
    }
   },
   "outputs": [],
   "source": [
    "# Adding Model check point Callback\n",
    "\n",
    "mc = ModelCheckpoint(\n",
    "    filepath=\"./ct_vgg_best_model.hdf5\",\n",
    "    monitor= 'val_accuracy', \n",
    "    verbose= 1,\n",
    "    save_best_only= True, \n",
    "    mode = 'auto'\n",
    "    );\n",
    "\n",
    "call_back = [mc];"
   ]
  },
  {
   "cell_type": "code",
   "execution_count": 18,
   "metadata": {
    "execution": {
     "iopub.execute_input": "2022-01-13T12:58:55.693470Z",
     "iopub.status.busy": "2022-01-13T12:58:55.692895Z",
     "iopub.status.idle": "2022-01-13T13:09:44.971887Z",
     "shell.execute_reply": "2022-01-13T13:09:44.971190Z",
     "shell.execute_reply.started": "2022-01-13T12:58:55.693431Z"
    },
    "scrolled": true
   },
   "outputs": [
    {
     "name": "stdout",
     "output_type": "stream",
     "text": [
      "Epoch 1/40\n",
      "183/183 [==============================] - ETA: 0s - loss: 1.5431 - accuracy: 0.5079\n",
      "Epoch 1: val_accuracy improved from -inf to 0.47619, saving model to .\\ct_vgg_best_model.hdf5\n",
      "183/183 [==============================] - 1246s 7s/step - loss: 1.5431 - accuracy: 0.5079 - val_loss: 2.4731 - val_accuracy: 0.4762\n",
      "Epoch 2/40\n",
      "183/183 [==============================] - ETA: 0s - loss: 1.5035 - accuracy: 0.5806\n",
      "Epoch 2: val_accuracy improved from 0.47619 to 0.57619, saving model to .\\ct_vgg_best_model.hdf5\n",
      "183/183 [==============================] - 1266s 7s/step - loss: 1.5035 - accuracy: 0.5806 - val_loss: 1.2760 - val_accuracy: 0.5762\n",
      "Epoch 3/40\n",
      "183/183 [==============================] - ETA: 0s - loss: 1.4045 - accuracy: 0.6047\n",
      "Epoch 3: val_accuracy improved from 0.57619 to 0.60952, saving model to .\\ct_vgg_best_model.hdf5\n",
      "183/183 [==============================] - 1266s 7s/step - loss: 1.4045 - accuracy: 0.6047 - val_loss: 1.4921 - val_accuracy: 0.6095\n",
      "Epoch 4/40\n",
      "183/183 [==============================] - ETA: 0s - loss: 1.1958 - accuracy: 0.6577\n",
      "Epoch 4: val_accuracy did not improve from 0.60952\n",
      "183/183 [==============================] - 1259s 7s/step - loss: 1.1958 - accuracy: 0.6577 - val_loss: 2.7731 - val_accuracy: 0.4857\n",
      "Epoch 5/40\n",
      "183/183 [==============================] - ETA: 0s - loss: 1.0505 - accuracy: 0.6873\n",
      "Epoch 5: val_accuracy did not improve from 0.60952\n",
      "183/183 [==============================] - 1268s 7s/step - loss: 1.0505 - accuracy: 0.6873 - val_loss: 1.9112 - val_accuracy: 0.5810\n",
      "Epoch 6/40\n",
      "183/183 [==============================] - ETA: 0s - loss: 1.2527 - accuracy: 0.6791\n",
      "Epoch 6: val_accuracy did not improve from 0.60952\n",
      "183/183 [==============================] - 1258s 7s/step - loss: 1.2527 - accuracy: 0.6791 - val_loss: 1.6433 - val_accuracy: 0.5667\n",
      "Epoch 7/40\n",
      "183/183 [==============================] - ETA: 0s - loss: 1.1005 - accuracy: 0.6949\n",
      "Epoch 7: val_accuracy did not improve from 0.60952\n",
      "183/183 [==============================] - 1269s 7s/step - loss: 1.1005 - accuracy: 0.6949 - val_loss: 2.3288 - val_accuracy: 0.5619\n",
      "Epoch 8/40\n",
      "183/183 [==============================] - ETA: 0s - loss: 1.1930 - accuracy: 0.6927\n",
      "Epoch 8: val_accuracy improved from 0.60952 to 0.62381, saving model to .\\ct_vgg_best_model.hdf5\n",
      "183/183 [==============================] - 1254s 7s/step - loss: 1.1930 - accuracy: 0.6927 - val_loss: 1.5563 - val_accuracy: 0.6238\n",
      "Epoch 9/40\n",
      "183/183 [==============================] - ETA: 0s - loss: 1.2142 - accuracy: 0.6916\n",
      "Epoch 9: val_accuracy did not improve from 0.62381\n",
      "183/183 [==============================] - 1277s 7s/step - loss: 1.2142 - accuracy: 0.6916 - val_loss: 1.9076 - val_accuracy: 0.6238\n",
      "Epoch 10/40\n",
      "183/183 [==============================] - ETA: 0s - loss: 1.1093 - accuracy: 0.7102\n",
      "Epoch 10: val_accuracy improved from 0.62381 to 0.63810, saving model to .\\ct_vgg_best_model.hdf5\n",
      "183/183 [==============================] - 1267s 7s/step - loss: 1.1093 - accuracy: 0.7102 - val_loss: 1.7817 - val_accuracy: 0.6381\n",
      "Epoch 11/40\n",
      "183/183 [==============================] - ETA: 0s - loss: 1.0259 - accuracy: 0.7288\n",
      "Epoch 11: val_accuracy improved from 0.63810 to 0.69048, saving model to .\\ct_vgg_best_model.hdf5\n",
      "183/183 [==============================] - 1295s 7s/step - loss: 1.0259 - accuracy: 0.7288 - val_loss: 1.3715 - val_accuracy: 0.6905\n",
      "Epoch 12/40\n",
      "183/183 [==============================] - ETA: 0s - loss: 1.3300 - accuracy: 0.7124\n",
      "Epoch 12: val_accuracy did not improve from 0.69048\n",
      "183/183 [==============================] - 1289s 7s/step - loss: 1.3300 - accuracy: 0.7124 - val_loss: 2.7254 - val_accuracy: 0.5429\n",
      "Epoch 13/40\n",
      "183/183 [==============================] - ETA: 0s - loss: 1.1885 - accuracy: 0.7217\n",
      "Epoch 13: val_accuracy did not improve from 0.69048\n",
      "183/183 [==============================] - 1271s 7s/step - loss: 1.1885 - accuracy: 0.7217 - val_loss: 1.8666 - val_accuracy: 0.6524\n",
      "Epoch 14/40\n",
      "183/183 [==============================] - ETA: 0s - loss: 1.1389 - accuracy: 0.7272\n",
      "Epoch 14: val_accuracy did not improve from 0.69048\n",
      "183/183 [==============================] - 1296s 7s/step - loss: 1.1389 - accuracy: 0.7272 - val_loss: 1.9067 - val_accuracy: 0.6476\n",
      "Epoch 15/40\n",
      "183/183 [==============================] - ETA: 0s - loss: 1.1673 - accuracy: 0.7113\n",
      "Epoch 15: val_accuracy improved from 0.69048 to 0.69524, saving model to .\\ct_vgg_best_model.hdf5\n",
      "183/183 [==============================] - 1312s 7s/step - loss: 1.1673 - accuracy: 0.7113 - val_loss: 2.1621 - val_accuracy: 0.6952\n",
      "Epoch 16/40\n",
      "183/183 [==============================] - ETA: 0s - loss: 1.0968 - accuracy: 0.7381\n",
      "Epoch 16: val_accuracy did not improve from 0.69524\n",
      "183/183 [==============================] - 1349s 7s/step - loss: 1.0968 - accuracy: 0.7381 - val_loss: 3.0736 - val_accuracy: 0.5476\n",
      "Epoch 17/40\n",
      "183/183 [==============================] - ETA: 0s - loss: 1.1299 - accuracy: 0.7485\n",
      "Epoch 17: val_accuracy did not improve from 0.69524\n",
      "183/183 [==============================] - 1367s 7s/step - loss: 1.1299 - accuracy: 0.7485 - val_loss: 1.7355 - val_accuracy: 0.6762\n",
      "Epoch 18/40\n",
      "183/183 [==============================] - ETA: 0s - loss: 1.1398 - accuracy: 0.7408\n",
      "Epoch 18: val_accuracy did not improve from 0.69524\n",
      "183/183 [==============================] - 1404s 8s/step - loss: 1.1398 - accuracy: 0.7408 - val_loss: 2.0315 - val_accuracy: 0.6095\n",
      "Epoch 19/40\n",
      "183/183 [==============================] - ETA: 0s - loss: 1.3783 - accuracy: 0.7277\n",
      "Epoch 19: val_accuracy did not improve from 0.69524\n",
      "183/183 [==============================] - 1360s 7s/step - loss: 1.3783 - accuracy: 0.7277 - val_loss: 2.4587 - val_accuracy: 0.6190\n",
      "Epoch 20/40\n",
      "183/183 [==============================] - ETA: 0s - loss: 1.1133 - accuracy: 0.7512\n",
      "Epoch 20: val_accuracy did not improve from 0.69524\n",
      "183/183 [==============================] - 1364s 7s/step - loss: 1.1133 - accuracy: 0.7512 - val_loss: 2.0770 - val_accuracy: 0.6381\n",
      "Epoch 21/40\n",
      "183/183 [==============================] - ETA: 0s - loss: 1.1870 - accuracy: 0.7425\n",
      "Epoch 21: val_accuracy did not improve from 0.69524\n",
      "183/183 [==============================] - 2001s 11s/step - loss: 1.1870 - accuracy: 0.7425 - val_loss: 2.3473 - val_accuracy: 0.6762\n",
      "Epoch 22/40\n",
      "183/183 [==============================] - ETA: 0s - loss: 1.2017 - accuracy: 0.7567 \n",
      "Epoch 22: val_accuracy did not improve from 0.69524\n",
      "183/183 [==============================] - 2273s 12s/step - loss: 1.2017 - accuracy: 0.7567 - val_loss: 2.6573 - val_accuracy: 0.6619\n",
      "Epoch 23/40\n",
      "183/183 [==============================] - ETA: 0s - loss: 0.9239 - accuracy: 0.7693\n",
      "Epoch 23: val_accuracy improved from 0.69524 to 0.70952, saving model to .\\ct_vgg_best_model.hdf5\n",
      "183/183 [==============================] - 1978s 11s/step - loss: 0.9239 - accuracy: 0.7693 - val_loss: 1.7733 - val_accuracy: 0.7095\n",
      "Epoch 24/40\n",
      "183/183 [==============================] - ETA: 0s - loss: 0.9280 - accuracy: 0.7818\n",
      "Epoch 24: val_accuracy did not improve from 0.70952\n",
      "183/183 [==============================] - 1716s 9s/step - loss: 0.9280 - accuracy: 0.7818 - val_loss: 2.1370 - val_accuracy: 0.6571\n",
      "Epoch 25/40\n",
      "183/183 [==============================] - ETA: 0s - loss: 1.1604 - accuracy: 0.7583\n",
      "Epoch 25: val_accuracy did not improve from 0.70952\n",
      "183/183 [==============================] - 1738s 10s/step - loss: 1.1604 - accuracy: 0.7583 - val_loss: 2.3207 - val_accuracy: 0.6381\n",
      "Epoch 26/40\n",
      "183/183 [==============================] - ETA: 0s - loss: 1.0094 - accuracy: 0.7704\n",
      "Epoch 26: val_accuracy did not improve from 0.70952\n",
      "183/183 [==============================] - 1717s 9s/step - loss: 1.0094 - accuracy: 0.7704 - val_loss: 1.8315 - val_accuracy: 0.6762\n",
      "Epoch 27/40\n",
      "183/183 [==============================] - ETA: 0s - loss: 0.9962 - accuracy: 0.7835\n",
      "Epoch 27: val_accuracy did not improve from 0.70952\n",
      "183/183 [==============================] - 1335s 7s/step - loss: 0.9962 - accuracy: 0.7835 - val_loss: 2.2175 - val_accuracy: 0.6571\n",
      "Epoch 28/40\n",
      "183/183 [==============================] - ETA: 0s - loss: 1.1181 - accuracy: 0.7709\n",
      "Epoch 28: val_accuracy did not improve from 0.70952\n",
      "183/183 [==============================] - 1283s 7s/step - loss: 1.1181 - accuracy: 0.7709 - val_loss: 2.3958 - val_accuracy: 0.6429\n"
     ]
    },
    {
     "name": "stdout",
     "output_type": "stream",
     "text": [
      "Epoch 29/40\n",
      "183/183 [==============================] - ETA: 0s - loss: 1.0455 - accuracy: 0.7649\n",
      "Epoch 29: val_accuracy did not improve from 0.70952\n",
      "183/183 [==============================] - 1292s 7s/step - loss: 1.0455 - accuracy: 0.7649 - val_loss: 2.3365 - val_accuracy: 0.6571\n",
      "Epoch 30/40\n",
      "183/183 [==============================] - ETA: 0s - loss: 1.0186 - accuracy: 0.7786\n",
      "Epoch 30: val_accuracy improved from 0.70952 to 0.73333, saving model to .\\ct_vgg_best_model.hdf5\n",
      "183/183 [==============================] - 1279s 7s/step - loss: 1.0186 - accuracy: 0.7786 - val_loss: 2.3418 - val_accuracy: 0.7333\n",
      "Epoch 31/40\n",
      "183/183 [==============================] - ETA: 0s - loss: 1.1320 - accuracy: 0.7638\n",
      "Epoch 31: val_accuracy did not improve from 0.73333\n",
      "183/183 [==============================] - 1284s 7s/step - loss: 1.1320 - accuracy: 0.7638 - val_loss: 2.2060 - val_accuracy: 0.6571\n",
      "Epoch 32/40\n",
      "183/183 [==============================] - ETA: 0s - loss: 1.0281 - accuracy: 0.7753\n",
      "Epoch 32: val_accuracy did not improve from 0.73333\n",
      "183/183 [==============================] - 1266s 7s/step - loss: 1.0281 - accuracy: 0.7753 - val_loss: 2.2778 - val_accuracy: 0.6571\n",
      "Epoch 33/40\n",
      "183/183 [==============================] - ETA: 0s - loss: 1.0835 - accuracy: 0.7797\n",
      "Epoch 33: val_accuracy did not improve from 0.73333\n",
      "183/183 [==============================] - 1273s 7s/step - loss: 1.0835 - accuracy: 0.7797 - val_loss: 2.5062 - val_accuracy: 0.6810\n",
      "Epoch 34/40\n",
      "183/183 [==============================] - ETA: 0s - loss: 0.9578 - accuracy: 0.8075\n",
      "Epoch 34: val_accuracy did not improve from 0.73333\n",
      "183/183 [==============================] - 1217s 7s/step - loss: 0.9578 - accuracy: 0.8075 - val_loss: 2.0651 - val_accuracy: 0.7000\n",
      "Epoch 35/40\n",
      "183/183 [==============================] - ETA: 0s - loss: 1.0504 - accuracy: 0.7895\n",
      "Epoch 35: val_accuracy improved from 0.73333 to 0.76190, saving model to .\\ct_vgg_best_model.hdf5\n",
      "183/183 [==============================] - 1221s 7s/step - loss: 1.0504 - accuracy: 0.7895 - val_loss: 2.1624 - val_accuracy: 0.7619\n",
      "Epoch 36/40\n",
      "183/183 [==============================] - ETA: 0s - loss: 0.9992 - accuracy: 0.7879\n",
      "Epoch 36: val_accuracy did not improve from 0.76190\n",
      "183/183 [==============================] - 1228s 7s/step - loss: 0.9992 - accuracy: 0.7879 - val_loss: 4.1986 - val_accuracy: 0.5857\n",
      "Epoch 37/40\n",
      "183/183 [==============================] - ETA: 0s - loss: 0.9955 - accuracy: 0.7846\n",
      "Epoch 37: val_accuracy did not improve from 0.76190\n",
      "183/183 [==============================] - 1226s 7s/step - loss: 0.9955 - accuracy: 0.7846 - val_loss: 3.5644 - val_accuracy: 0.5619\n",
      "Epoch 38/40\n",
      "183/183 [==============================] - ETA: 0s - loss: 1.0375 - accuracy: 0.7895\n",
      "Epoch 38: val_accuracy did not improve from 0.76190\n",
      "183/183 [==============================] - 1239s 7s/step - loss: 1.0375 - accuracy: 0.7895 - val_loss: 2.7861 - val_accuracy: 0.6429\n",
      "Epoch 39/40\n",
      "183/183 [==============================] - ETA: 0s - loss: 1.0742 - accuracy: 0.7829\n",
      "Epoch 39: val_accuracy did not improve from 0.76190\n",
      "183/183 [==============================] - 1239s 7s/step - loss: 1.0742 - accuracy: 0.7829 - val_loss: 2.3488 - val_accuracy: 0.7000\n",
      "Epoch 40/40\n",
      "183/183 [==============================] - ETA: 0s - loss: 1.0861 - accuracy: 0.7693\n",
      "Epoch 40: val_accuracy did not improve from 0.76190\n",
      "183/183 [==============================] - 1234s 7s/step - loss: 1.0861 - accuracy: 0.7693 - val_loss: 3.1576 - val_accuracy: 0.6619\n"
     ]
    }
   ],
   "source": [
    "# Fitting the Model\n",
    "vgg = vgg_model.fit(\n",
    "    train_data, \n",
    "    steps_per_epoch = train_data.samples//train_data.batch_size, \n",
    "    epochs = 40, \n",
    "    validation_data = val_data, \n",
    "    validation_steps = val_data.samples//val_data.batch_size,\n",
    "    callbacks = call_back \n",
    "    )"
   ]
  },
  {
   "cell_type": "code",
   "execution_count": 27,
   "metadata": {
    "execution": {
     "iopub.execute_input": "2022-01-13T13:09:49.099232Z",
     "iopub.status.busy": "2022-01-13T13:09:49.098977Z",
     "iopub.status.idle": "2022-01-13T13:09:49.343411Z",
     "shell.execute_reply": "2022-01-13T13:09:49.342652Z",
     "shell.execute_reply.started": "2022-01-13T13:09:49.099202Z"
    }
   },
   "outputs": [],
   "source": [
    "# Loading the Best Fit Model \n",
    "model = load_model(\"./ct_vgg_best_model.hdf5\")"
   ]
  },
  {
   "cell_type": "code",
   "execution_count": 20,
   "metadata": {
    "execution": {
     "iopub.execute_input": "2022-01-13T13:09:51.653498Z",
     "iopub.status.busy": "2022-01-13T13:09:51.653227Z",
     "iopub.status.idle": "2022-01-13T13:09:54.408967Z",
     "shell.execute_reply": "2022-01-13T13:09:54.408200Z",
     "shell.execute_reply.started": "2022-01-13T13:09:51.653468Z"
    }
   },
   "outputs": [
    {
     "name": "stdout",
     "output_type": "stream",
     "text": [
      "The accuracy of the model is = 70.79365253448486 %\n"
     ]
    }
   ],
   "source": [
    "# Checking the Accuracy of the Model \n",
    "accuracy_vgg = model.evaluate_generator(generator= test_data)[1] \n",
    "print(f\"The accuracy of the model is = {accuracy_vgg*100} %\")"
   ]
  },
  {
   "cell_type": "code",
   "execution_count": 21,
   "metadata": {
    "execution": {
     "iopub.execute_input": "2022-01-13T13:09:58.530792Z",
     "iopub.status.busy": "2022-01-13T13:09:58.529899Z",
     "iopub.status.idle": "2022-01-13T13:09:58.535965Z",
     "shell.execute_reply": "2022-01-13T13:09:58.535148Z",
     "shell.execute_reply.started": "2022-01-13T13:09:58.530754Z"
    }
   },
   "outputs": [
    {
     "data": {
      "text/plain": [
       "dict_keys(['loss', 'accuracy', 'val_loss', 'val_accuracy'])"
      ]
     },
     "execution_count": 21,
     "metadata": {},
     "output_type": "execute_result"
    }
   ],
   "source": [
    "vgg.history.keys()"
   ]
  },
  {
   "cell_type": "code",
   "execution_count": 29,
   "metadata": {},
   "outputs": [
    {
     "data": {
      "image/png": "[encoded data removed]",
      "text/plain": [
       "<Figure size 1080x360 with 2 Axes>"
      ]
     },
     "metadata": {},
     "output_type": "display_data"
    }
   ],
   "source": [
    "# Plot model performance\n",
    "plt.style.use('seaborn-darkgrid')\n",
    "\n",
    "acc = vgg.history['accuracy']\n",
    "val_acc = vgg.history['val_accuracy']\n",
    "loss = vgg.history['loss']\n",
    "val_loss = vgg.history['val_loss']\n",
    "epochs_range = range(1, len(vgg.epoch) + 1)\n",
    "\n",
    "plt.figure(figsize=(15,5))\n",
    "\n",
    "plt.subplot(1, 2, 1)\n",
    "plt.plot(epochs_range, acc, label='Train Set')\n",
    "plt.plot(epochs_range, val_acc, label='Val Set')\n",
    "plt.legend(loc=\"best\")\n",
    "plt.xlabel('Epochs')\n",
    "plt.ylabel('Accuracy')\n",
    "plt.title('Model Accuracy')\n",
    "\n",
    "plt.subplot(1, 2, 2)\n",
    "plt.plot(epochs_range, loss, label='Train Set')\n",
    "plt.plot(epochs_range, val_loss, label='Val Set')\n",
    "plt.legend(loc=\"best\")\n",
    "plt.xlabel('Epochs')\n",
    "plt.ylabel('Loss')\n",
    "plt.title('Model Loss')\n",
    "\n",
    "plt.tight_layout()\n",
    "plt.savefig(\"VGG results\")\n",
    "plt.show()"
   ]
  },
  {
   "cell_type": "markdown",
   "metadata": {},
   "source": [
    "### Predictions"
   ]
  },
  {
   "cell_type": "code",
   "execution_count": 23,
   "metadata": {
    "execution": {
     "iopub.execute_input": "2022-01-13T13:38:03.862281Z",
     "iopub.status.busy": "2022-01-13T13:38:03.861996Z",
     "iopub.status.idle": "2022-01-13T13:38:03.868256Z",
     "shell.execute_reply": "2022-01-13T13:38:03.867522Z",
     "shell.execute_reply.started": "2022-01-13T13:38:03.862251Z"
    }
   },
   "outputs": [],
   "source": [
    "def chestScanPrediction(path, _model):\n",
    "    classes_dir = [\"Adenocarcinoma\",\"Large cell carcinoma\",\"Normal\",\"Squamous cell carcinoma\"]\n",
    "    img = image.load_img(path, target_size=(350,350))\n",
    "    norm_img = image.img_to_array(img)/255\n",
    "    input_arr_img = np.array([norm_img])\n",
    "    pred = np.argmax(_model.predict(input_arr_img))\n",
    "    print(classes_dir[pred])"
   ]
  },
  {
   "cell_type": "code",
   "execution_count": 24,
   "metadata": {
    "execution": {
     "iopub.execute_input": "2022-01-13T13:38:07.676669Z",
     "iopub.status.busy": "2022-01-13T13:38:07.676017Z",
     "iopub.status.idle": "2022-01-13T13:38:09.112567Z",
     "shell.execute_reply": "2022-01-13T13:38:09.111826Z",
     "shell.execute_reply.started": "2022-01-13T13:38:07.676632Z"
    }
   },
   "outputs": [
    {
     "name": "stdout",
     "output_type": "stream",
     "text": [
      "1/1 [==============================] - 1s 875ms/step\n",
      "Large cell carcinoma\n"
     ]
    }
   ],
   "source": [
    "path = \"Data - All Trying/test/large.cell.carcinoma/000110.png\"\n",
    "chestScanPrediction(path,model)"
   ]
  }
 ],
 "metadata": {
  "kernelspec": {
   "display_name": "Python 3 (ipykernel)",
   "language": "python",
   "name": "python3"
  },
  "language_info": {
   "codemirror_mode": {
    "name": "ipython",
    "version": 3
   },
   "file_extension": ".py",
   "mimetype": "text/x-python",
   "name": "python",
   "nbconvert_exporter": "python",
   "pygments_lexer": "ipython3",
   "version": "3.8.1"
  }
 },
 "nbformat": 4,
 "nbformat_minor": 4
}
